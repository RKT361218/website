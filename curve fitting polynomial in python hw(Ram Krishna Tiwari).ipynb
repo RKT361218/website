{
 "cells": [
  {
   "cell_type": "code",
   "execution_count": 1,
   "metadata": {},
   "outputs": [],
   "source": [
    "#from numpy import*\n",
    "import numpy as np\n"
   ]
  },
  {
   "cell_type": "code",
   "execution_count": 2,
   "metadata": {},
   "outputs": [],
   "source": [
    "x=np.array([1,2,3,4,5,6,7,8,9,10,11,12])\n",
    "y=np.array([24.90820,24.34967,24.19466,24.84358,25.85619,26.24470,25.41290,24.98046,24.98809,24.88838,25.83410,26.34146])\n",
    "#x=array([1,2,3,4,5,6,7,8,9,10,11,12,13,14,15,16,17,18,19,20,21,22,23,24,25,26])\n",
    "#y=array([24.90820,24.34967,24.19466,24.84358,25.85619,26.24470,25.41290,24.98046,24.98809,24.88838,25.83410,26.34146,25.00185,25.47535,25.51081,25.98550,26.02740,26.40937,26.65883,25.96314,24.60632,25.34032,25.89972,26.10354,26.46520,26.85639])\n",
    "#x=np.array([0.8087,1.0146,1.139,0.7522,1.1189,0.6787,0.8721,1.1529,0.986,0.8496,0.9645,0.865])#b value\n",
    "#y=np.array([1.1777,1.0729,1.1076,2.1722,0.8817,0.7403,0.9034,0.8299,0.8584,1.1013,1.2322,1.3399])#dc value\n",
    "#z=np.array([1,2,3,4,5,6,7,8,9,10,11,12])"
   ]
  },
  {
   "cell_type": "code",
   "execution_count": 3,
   "metadata": {},
   "outputs": [
    {
     "name": "stdout",
     "output_type": "stream",
     "text": [
      "[ 1  2  3  4  5  6  7  8  9 10 11 12]\n"
     ]
    }
   ],
   "source": [
    "print(x)"
   ]
  },
  {
   "cell_type": "code",
   "execution_count": 4,
   "metadata": {},
   "outputs": [
    {
     "name": "stdout",
     "output_type": "stream",
     "text": [
      "[24.9082  24.34967 24.19466 24.84358 25.85619 26.2447  25.4129  24.98046\n",
      " 24.98809 24.88838 25.8341  26.34146]\n"
     ]
    }
   ],
   "source": [
    "print(y)"
   ]
  },
  {
   "cell_type": "code",
   "execution_count": 53,
   "metadata": {},
   "outputs": [],
   "source": [
    "#from scipy.interpolate import*"
   ]
  },
  {
   "cell_type": "code",
   "execution_count": 6,
   "metadata": {},
   "outputs": [],
   "source": [
    "p1=np.polyfit(x,y,1)\n",
    "#p2=np.polyfit(x,y,2)\n",
    "#p3=np.polyfit(x,y,3)\n",
    "#p4=np.polyfit(x,y,4)"
   ]
  },
  {
   "cell_type": "code",
   "execution_count": 7,
   "metadata": {},
   "outputs": [],
   "source": [
    "#from matplotlib.pyplot import*\n",
    "import matplotlib.pyplot as plt"
   ]
  },
  {
   "cell_type": "code",
   "execution_count": 8,
   "metadata": {},
   "outputs": [],
   "source": [
    "%matplotlib inline"
   ]
  },
  {
   "cell_type": "code",
   "execution_count": 9,
   "metadata": {},
   "outputs": [
    {
     "data": {
      "text/plain": [
       "[<matplotlib.lines.Line2D at 0x7f444f3bf9d0>]"
      ]
     },
     "execution_count": 9,
     "metadata": {},
     "output_type": "execute_result"
    },
    {
     "data": {
      "image/png": "[encoded data removed]",
      "text/plain": [
       "<Figure size 432x288 with 1 Axes>"
      ]
     },
     "metadata": {
      "needs_background": "light"
     },
     "output_type": "display_data"
    }
   ],
   "source": [
    "plt.plot(x,y,'o', label='original data')\n",
    "#plt.plot(z,x,'o-')\n",
    "#plt.plot(y,z,'o')"
   ]
  },
  {
   "cell_type": "code",
   "execution_count": 12,
   "metadata": {},
   "outputs": [
    {
     "data": {
      "text/plain": [
       "Text(0, 0.5, 'Dc-value')"
      ]
     },
     "execution_count": 12,
     "metadata": {},
     "output_type": "execute_result"
    },
    {
     "data": {
      "image/png": "[encoded data removed]",
      "text/plain": [
       "<Figure size 432x288 with 1 Axes>"
      ]
     },
     "metadata": {
      "needs_background": "light"
     },
     "output_type": "display_data"
    }
   ],
   "source": [
    "plt.plot(x,y,'o',label='original data')\n",
    "#plt.plot(x, intercept + slope*x, 'r', label='fitted line')\n",
    "plt.plot(x,np.polyval(p1,x),'r-',label='fitted line')\n",
    "#plt.plot(x,np.polyval(p2,x),'g*-',label='2degree fit')\n",
    "#plt.plot(x,np.polyval(p3,x),'m:',label='3degree fit') \n",
    "#plt.plot(x,np.polyval(p4,x),'k*-',label='4degree fit')\n",
    "#slope, intercept, r_value, p_value, std_err = stats.linregress(x, y)\n",
    "#print(\"slope: %f    intercept: %f\" % (slope, intercept))\n",
    "#print(\"R-squared: %f\" % r_value**2\n",
    "#print('coefficient of determination:', r_sq)\n",
    "plt.legend(loc='best')\n",
    "#plt.legend()\n",
    "plt.title('Plot of b value versus Dc value')\n",
    "plt.xlabel('b-value')\n",
    "plt.ylabel('Dc-value')\n"
   ]
  },
  {
   "cell_type": "code",
   "execution_count": 39,
   "metadata": {},
   "outputs": [
    {
     "name": "stdout",
     "output_type": "stream",
     "text": [
      "[-0.85586022  1.91708478]\n",
      "1.3864724952850491\n"
     ]
    }
   ],
   "source": [
    "print(p1)\n",
    "sd=np.std(p1)\n",
    "print(sd)\n",
    "\n",
    "\n"
   ]
  },
  {
   "cell_type": "code",
   "execution_count": 40,
   "metadata": {},
   "outputs": [
    {
     "name": "stdout",
     "output_type": "stream",
     "text": [
      "(-0.3503867714252082, 0.26416432759132713)\n"
     ]
    }
   ],
   "source": [
    "from scipy import stats\n",
    "r=stats.pearsonr(x,y)\n",
    "print(r)"
   ]
  },
  {
   "cell_type": "code",
   "execution_count": 41,
   "metadata": {},
   "outputs": [
    {
     "data": {
      "text/plain": [
       "[<matplotlib.lines.Line2D at 0x7fc67cc6c390>]"
      ]
     },
     "execution_count": 41,
     "metadata": {},
     "output_type": "execute_result"
    },
    {
     "data": {
      "image/png": "[encoded data removed]",
      "text/plain": [
       "<Figure size 432x288 with 1 Axes>"
      ]
     },
     "metadata": {
      "needs_background": "light"
     },
     "output_type": "display_data"
    }
   ],
   "source": [
    "plt.plot(x,y,'o')\n",
    "plt.plot(x,np.polyval(p1,x),'r-',label='1degree fit')\n",
    "# results of first degree fitting\n",
    "#standard deviation=12.208747645687641\n",
    "#r=0.56\n",
    "#p=5.6%"
   ]
  },
  {
   "cell_type": "code",
   "execution_count": 16,
   "metadata": {},
   "outputs": [
    {
     "name": "stdout",
     "output_type": "stream",
     "text": [
      "[-2.24556554  3.34279511  0.00386007]\n",
      "2.295845945318016\n"
     ]
    }
   ],
   "source": [
    "\n",
    "print(p2)\n",
    "sd=np.std(p2)\n",
    "print(sd)\n",
    "\n"
   ]
  },
  {
   "cell_type": "code",
   "execution_count": 17,
   "metadata": {},
   "outputs": [
    {
     "name": "stdout",
     "output_type": "stream",
     "text": [
      "(-0.9388995033972134, 6.049598125054837e-06)\n"
     ]
    }
   ],
   "source": [
    "from scipy import stats\n",
    "r=stats.pearsonr(x,np.polyval(p2,x))\n",
    "print(r)"
   ]
  },
  {
   "cell_type": "code",
   "execution_count": 18,
   "metadata": {},
   "outputs": [
    {
     "data": {
      "text/plain": [
       "[<matplotlib.lines.Line2D at 0x7fc67cf56610>]"
      ]
     },
     "execution_count": 18,
     "metadata": {},
     "output_type": "execute_result"
    },
    {
     "data": {
      "image/png": "[encoded data removed]",
      "text/plain": [
       "<Figure size 432x288 with 1 Axes>"
      ]
     },
     "metadata": {
      "needs_background": "light"
     },
     "output_type": "display_data"
    }
   ],
   "source": [
    "plt.plot(x,y,'o')\n",
    "plt.plot(x,np.polyval(p2,x),'r-')\n",
    "# results of second degree fitting\n",
    "#standard deviation=11.506417039044653\n",
    "#r=0.9988\n",
    "#p=1.9219103272315958e-14"
   ]
  },
  {
   "cell_type": "code",
   "execution_count": 19,
   "metadata": {},
   "outputs": [
    {
     "name": "stdout",
     "output_type": "stream",
     "text": [
      "[  53.63729514 -149.80105907  136.37230965  -39.29016155]\n",
      "106.60467802099721\n"
     ]
    }
   ],
   "source": [
    "print(p3)\n",
    "sd=np.std(p3)\n",
    "print(sd)"
   ]
  },
  {
   "cell_type": "code",
   "execution_count": 20,
   "metadata": {},
   "outputs": [
    {
     "name": "stdout",
     "output_type": "stream",
     "text": [
      "(-0.6697488809124952, 0.01718819149259359)\n"
     ]
    }
   ],
   "source": [
    "from scipy import stats\n",
    "r=stats.pearsonr(x,np.polyval(p3,x))\n",
    "print(r)"
   ]
  },
  {
   "cell_type": "code",
   "execution_count": 21,
   "metadata": {},
   "outputs": [
    {
     "data": {
      "text/plain": [
       "[<matplotlib.lines.Line2D at 0x7fc67cec2110>]"
      ]
     },
     "execution_count": 21,
     "metadata": {},
     "output_type": "execute_result"
    },
    {
     "data": {
      "image/png": "[encoded data removed]",
      "text/plain": [
       "<Figure size 432x288 with 1 Axes>"
      ]
     },
     "metadata": {
      "needs_background": "light"
     },
     "output_type": "display_data"
    }
   ],
   "source": [
    "plt.plot(x,y,'o')\n",
    "plt.plot(x,np.polyval(p3,x),'r-')\n",
    "\n",
    "# results of third degree fitting\n",
    "#standard deviation=10.147061841646812\n",
    "#r=0.89\n",
    "#p=9.376733490255161e-05"
   ]
  },
  {
   "cell_type": "code",
   "execution_count": 22,
   "metadata": {},
   "outputs": [
    {
     "name": "stdout",
     "output_type": "stream",
     "text": [
      "[ -854.57596753  3171.80336006 -4367.75314326  2642.4870526\n",
      "  -590.96207448]\n",
      "2727.631865064747\n"
     ]
    }
   ],
   "source": [
    "print(p4)\n",
    "sd=np.std(p4)\n",
    "print(sd)"
   ]
  },
  {
   "cell_type": "code",
   "execution_count": 23,
   "metadata": {},
   "outputs": [
    {
     "name": "stdout",
     "output_type": "stream",
     "text": [
      "(-0.4577757504368568, 0.13453137799677664)\n"
     ]
    }
   ],
   "source": [
    "from scipy import stats\n",
    "r=stats.pearsonr(x,np.polyval(p4,x))\n",
    "print(r)"
   ]
  },
  {
   "cell_type": "code",
   "execution_count": 24,
   "metadata": {},
   "outputs": [
    {
     "data": {
      "text/plain": [
       "[<matplotlib.lines.Line2D at 0x7fc67ce33090>]"
      ]
     },
     "execution_count": 24,
     "metadata": {},
     "output_type": "execute_result"
    },
    {
     "data": {
      "image/png": "[encoded data removed]",
      "text/plain": [
       "<Figure size 432x288 with 1 Axes>"
      ]
     },
     "metadata": {
      "needs_background": "light"
     },
     "output_type": "display_data"
    }
   ],
   "source": [
    "plt.plot(x,y,'o')\n",
    "plt.plot(x,np.polyval(p4,x),'r-')\n",
    "# results of fourth degree fitting\n",
    "#standard deviation=10.818200412588295\n",
    "#r=0.64\n",
    "#p=0.023\n"
   ]
  },
  {
   "cell_type": "code",
   "execution_count": 25,
   "metadata": {},
   "outputs": [
    {
     "name": "stdout",
     "output_type": "stream",
     "text": [
      "[1.1777 1.0729 1.1076 2.1722 0.8817 0.7403 0.9034 0.8299 0.8584 1.1013\n",
      " 1.2322 1.3399]\n",
      "[1.22495062 1.048729   0.94225999 1.27330672 0.95946278 1.33621245\n",
      " 1.17068908 0.93036353 1.0732066  1.18994594 1.0916076  1.17676569]\n"
     ]
    }
   ],
   "source": [
    "yfit=p1[0]*x+p1[1]\n",
    "print(y)\n",
    "print(yfit)"
   ]
  },
  {
   "cell_type": "code",
   "execution_count": 26,
   "metadata": {},
   "outputs": [
    {
     "data": {
      "text/plain": [
       "[<matplotlib.lines.Line2D at 0x7fc67cdda410>]"
      ]
     },
     "execution_count": 26,
     "metadata": {},
     "output_type": "execute_result"
    },
    {
     "data": {
      "image/png": "[encoded data removed]",
      "text/plain": [
       "<Figure size 432x288 with 1 Axes>"
      ]
     },
     "metadata": {
      "needs_background": "light"
     },
     "output_type": "display_data"
    }
   ],
   "source": [
    "plt.plot(yfit)"
   ]
  },
  {
   "cell_type": "code",
   "execution_count": 27,
   "metadata": {},
   "outputs": [
    {
     "name": "stdout",
     "output_type": "stream",
     "text": [
      "(-1.0, 0.0)\n"
     ]
    }
   ],
   "source": [
    "from scipy import stats\n",
    "r=stats.pearsonr(x,yfit)\n",
    "print(r)"
   ]
  },
  {
   "cell_type": "code",
   "execution_count": 28,
   "metadata": {},
   "outputs": [],
   "source": [
    "#Conclusion\n",
    "#fourth degree fitting is suitable for the data because of following factors\n",
    "#standard deviation and p value is low and r is 0.64"
   ]
  },
  {
   "cell_type": "code",
   "execution_count": null,
   "metadata": {},
   "outputs": [],
   "source": []
  }
 ],
 "metadata": {
  "kernelspec": {
   "display_name": "Python 3",
   "language": "python",
   "name": "python3"
  },
  "language_info": {
   "codemirror_mode": {
    "name": "ipython",
    "version": 3
   },
   "file_extension": ".py",
   "mimetype": "text/x-python",
   "name": "python",
   "nbconvert_exporter": "python",
   "pygments_lexer": "ipython3",
   "version": "3.7.6"
  }
 },
 "nbformat": 4,
 "nbformat_minor": 2
}
